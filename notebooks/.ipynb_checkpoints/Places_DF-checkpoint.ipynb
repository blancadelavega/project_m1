{
 "cells": [
  {
   "cell_type": "code",
   "execution_count": 135,
   "id": "42d13375",
   "metadata": {},
   "outputs": [],
   "source": [
    "#Imports\n",
    "import pandas as pd\n",
    "import requests"
   ]
  },
  {
   "cell_type": "code",
   "execution_count": 164,
   "id": "6a3bdd26",
   "metadata": {},
   "outputs": [
    {
     "data": {
      "text/plain": [
       "'https://datos.madrid.es/egob/catalogo/300614-0-centros-educativos.json'"
      ]
     },
     "execution_count": 164,
     "metadata": {},
     "output_type": "execute_result"
    }
   ],
   "source": [
    "#Acceder a la API \n",
    "# Main End-Point\n",
    "end_point = 'https://datos.madrid.es/egob'\n",
    "#Body\n",
    "par1 = '/catalogo/300614-0-centros-educativos.json'\n",
    "\n",
    "url = end_point + par1\n",
    "url"
   ]
  },
  {
   "cell_type": "code",
   "execution_count": 165,
   "id": "1d1f30ca",
   "metadata": {},
   "outputs": [
    {
     "name": "stdout",
     "output_type": "stream",
     "text": [
      "200\n"
     ]
    }
   ],
   "source": [
    "response = requests.get(url)\n",
    "print(response.status_code)\n",
    "json_data = response.json()"
   ]
  },
  {
   "cell_type": "code",
   "execution_count": 166,
   "id": "d9f47f9b",
   "metadata": {},
   "outputs": [
    {
     "data": {
      "text/plain": [
       "dict_keys(['@context', '@graph'])"
      ]
     },
     "execution_count": 166,
     "metadata": {},
     "output_type": "execute_result"
    }
   ],
   "source": [
    "json_data.keys()"
   ]
  },
  {
   "cell_type": "code",
   "execution_count": 167,
   "id": "51af10b9",
   "metadata": {},
   "outputs": [
    {
     "name": "stdout",
     "output_type": "stream",
     "text": [
      "<class 'dict'>\n",
      "<class 'list'>\n"
     ]
    }
   ],
   "source": [
    "print(type(json_data['@context']))\n",
    "print(type(json_data['@graph']))"
   ]
  },
  {
   "cell_type": "code",
   "execution_count": 168,
   "id": "5cbb4ac9",
   "metadata": {},
   "outputs": [],
   "source": [
    "#Es en 'graph' donde tengo la información que me interesa\n",
    "#json_data['@graph']"
   ]
  },
  {
   "cell_type": "code",
   "execution_count": 169,
   "id": "5024e71a",
   "metadata": {},
   "outputs": [],
   "source": [
    "df2 = pd.DataFrame(json_data['@graph'])\n",
    "#df_2"
   ]
  },
  {
   "cell_type": "code",
   "execution_count": 171,
   "id": "ce59b044",
   "metadata": {},
   "outputs": [],
   "source": [
    "#Para crear el df que quiero necesito extraer de la columan de address la información de la dirección\n",
    "\n",
    "df2['street_address'] = df2['address'].apply(lambda x: x.get('street-address') if pd.notnull(x) else None).str.title()\n",
    "#df_places"
   ]
  },
  {
   "cell_type": "code",
   "execution_count": 172,
   "id": "506f9cf2",
   "metadata": {},
   "outputs": [
    {
     "data": {
      "text/plain": [
       "0                     Calle Leizaran 27\n",
       "1                     Calle Gran Via 63\n",
       "2         Calle Marques De Villamejor 5\n",
       "3                     Calle Serrano 117\n",
       "4                   Calle Joaquin Bau 4\n",
       "                     ...               \n",
       "1879          Calle Alberto Aguilera 23\n",
       "1880    Calle Universidad De Comillas 3\n",
       "1881          Calle Alberto Aguilera 23\n",
       "1882          Calle Alberto Aguilera 23\n",
       "1883                Calle Gaztambide 12\n",
       "Name: street_address, Length: 1884, dtype: object"
      ]
     },
     "execution_count": 172,
     "metadata": {},
     "output_type": "execute_result"
    }
   ],
   "source": [
    "df2.loc[:, \"street_address\"]"
   ]
  },
  {
   "cell_type": "code",
   "execution_count": 173,
   "id": "425b116f",
   "metadata": {},
   "outputs": [],
   "source": [
    "#Creo las dos nuevas columnas con lat y longuitud\n",
    "df2['latitude'] = df2['location'].apply(lambda x: x['latitude'] if isinstance(x, dict) else None)\n",
    "df2['longitude'] = df2['location'].apply(lambda x: x['longitude'] if isinstance(x, dict) else None)\n",
    "#df2"
   ]
  },
  {
   "cell_type": "code",
   "execution_count": 174,
   "id": "29023604",
   "metadata": {},
   "outputs": [],
   "source": [
    "#Voy a crear un segundo df unicamente con las columnas que me interesan\n",
    "df_places = df2[['title', 'street_address', 'latitude', 'longitude']]\n",
    "#df_places"
   ]
  },
  {
   "cell_type": "code",
   "execution_count": 175,
   "id": "878515fc",
   "metadata": {},
   "outputs": [],
   "source": [
    "df_places = df_places.rename(columns={'title': 'Place of interest', 'street_address': 'Place address',\n",
    "                                                   'latitude': 'place_lat', 'longitude': 'place_long'})\n",
    "#df_places"
   ]
  },
  {
   "cell_type": "code",
   "execution_count": 176,
   "id": "4dfe5ed5",
   "metadata": {},
   "outputs": [
    {
     "data": {
      "text/plain": [
       "Place of interest    0\n",
       "Place address        0\n",
       "place_lat            4\n",
       "place_long           4\n",
       "dtype: int64"
      ]
     },
     "execution_count": 176,
     "metadata": {},
     "output_type": "execute_result"
    }
   ],
   "source": [
    "places_null_cols = df_places.isnull().sum()\n",
    "places_null_cols"
   ]
  },
  {
   "cell_type": "code",
   "execution_count": 177,
   "id": "72077e2a",
   "metadata": {},
   "outputs": [
    {
     "name": "stdout",
     "output_type": "stream",
     "text": [
      "                                    Place of interest  \\\n",
      "6                   Aula de Naturaleza Palacio Valdés   \n",
      "549   Colegio Público de Educación Especial La Quinta   \n",
      "953                                      Escuela Ideo   \n",
      "1031                    Escuela Infantil Bularas INIA   \n",
      "\n",
      "                                          Place address  place_lat  place_long  \n",
      "6                   Carretera Colmenar Viejo Km 22,600         NaN         NaN  \n",
      "549   Carretera Somontes Al Palacio De La Real Quinta 1        NaN         NaN  \n",
      "953                         Carretera Colmenar Viejo 16        NaN         NaN  \n",
      "1031   Avenida Padre Huidobro (Carretera Coruña Km 7,5)        NaN         NaN  \n"
     ]
    }
   ],
   "source": [
    "filas_con_nulos = df_places[df_places.isnull().any(axis=1)]\n",
    "print(filas_con_nulos)"
   ]
  },
  {
   "cell_type": "code",
   "execution_count": 178,
   "id": "30c6f2fd",
   "metadata": {},
   "outputs": [
    {
     "data": {
      "text/html": [
       "<div>\n",
       "<style scoped>\n",
       "    .dataframe tbody tr th:only-of-type {\n",
       "        vertical-align: middle;\n",
       "    }\n",
       "\n",
       "    .dataframe tbody tr th {\n",
       "        vertical-align: top;\n",
       "    }\n",
       "\n",
       "    .dataframe thead th {\n",
       "        text-align: right;\n",
       "    }\n",
       "</style>\n",
       "<table border=\"1\" class=\"dataframe\">\n",
       "  <thead>\n",
       "    <tr style=\"text-align: right;\">\n",
       "      <th></th>\n",
       "      <th>Place of interest</th>\n",
       "      <th>Place address</th>\n",
       "      <th>place_lat</th>\n",
       "      <th>place_long</th>\n",
       "    </tr>\n",
       "  </thead>\n",
       "  <tbody>\n",
       "    <tr>\n",
       "      <th>0</th>\n",
       "      <td>ABC Schule (Alemán)</td>\n",
       "      <td>Calle Leizaran 27</td>\n",
       "      <td>40.447932</td>\n",
       "      <td>-3.681382</td>\n",
       "    </tr>\n",
       "    <tr>\n",
       "      <th>1</th>\n",
       "      <td>Academia Darío Estudio</td>\n",
       "      <td>Calle Gran Via 63</td>\n",
       "      <td>40.422491</td>\n",
       "      <td>-3.709818</td>\n",
       "    </tr>\n",
       "    <tr>\n",
       "      <th>2</th>\n",
       "      <td>AFI Escuela de Finanzas</td>\n",
       "      <td>Calle Marques De Villamejor 5</td>\n",
       "      <td>40.431247</td>\n",
       "      <td>-3.687559</td>\n",
       "    </tr>\n",
       "    <tr>\n",
       "      <th>3</th>\n",
       "      <td>Agencia Estatal Consejo Superior de Investigac...</td>\n",
       "      <td>Calle Serrano 117</td>\n",
       "      <td>40.440884</td>\n",
       "      <td>-3.687026</td>\n",
       "    </tr>\n",
       "    <tr>\n",
       "      <th>4</th>\n",
       "      <td>Altair, Colegio Internacional</td>\n",
       "      <td>Calle Joaquin Bau 4</td>\n",
       "      <td>40.463788</td>\n",
       "      <td>-3.685848</td>\n",
       "    </tr>\n",
       "    <tr>\n",
       "      <th>...</th>\n",
       "      <td>...</td>\n",
       "      <td>...</td>\n",
       "      <td>...</td>\n",
       "      <td>...</td>\n",
       "    </tr>\n",
       "    <tr>\n",
       "      <th>1875</th>\n",
       "      <td>Universidad Pontificia Comillas. Facultad de D...</td>\n",
       "      <td>Calle Alberto Aguilera 23</td>\n",
       "      <td>40.429980</td>\n",
       "      <td>-3.711258</td>\n",
       "    </tr>\n",
       "    <tr>\n",
       "      <th>1876</th>\n",
       "      <td>Universidad Pontificia Comillas. Facultad de T...</td>\n",
       "      <td>Calle Universidad De Comillas 3</td>\n",
       "      <td>40.552126</td>\n",
       "      <td>-3.682802</td>\n",
       "    </tr>\n",
       "    <tr>\n",
       "      <th>1877</th>\n",
       "      <td>Universidad Pontificia de Comillas. Facultad d...</td>\n",
       "      <td>Calle Alberto Aguilera 23</td>\n",
       "      <td>40.429980</td>\n",
       "      <td>-3.711258</td>\n",
       "    </tr>\n",
       "    <tr>\n",
       "      <th>1878</th>\n",
       "      <td>Universidad Pontificia de Comillas. Facultad d...</td>\n",
       "      <td>Calle Alberto Aguilera 23</td>\n",
       "      <td>40.429980</td>\n",
       "      <td>-3.711258</td>\n",
       "    </tr>\n",
       "    <tr>\n",
       "      <th>1879</th>\n",
       "      <td>Universidad Pontificia de Salamanca. Campus de...</td>\n",
       "      <td>Calle Gaztambide 12</td>\n",
       "      <td>40.432068</td>\n",
       "      <td>-3.715598</td>\n",
       "    </tr>\n",
       "  </tbody>\n",
       "</table>\n",
       "<p>1880 rows × 4 columns</p>\n",
       "</div>"
      ],
      "text/plain": [
       "                                      Place of interest  \\\n",
       "0                                   ABC Schule (Alemán)   \n",
       "1                                Academia Darío Estudio   \n",
       "2                               AFI Escuela de Finanzas   \n",
       "3     Agencia Estatal Consejo Superior de Investigac...   \n",
       "4                         Altair, Colegio Internacional   \n",
       "...                                                 ...   \n",
       "1875  Universidad Pontificia Comillas. Facultad de D...   \n",
       "1876  Universidad Pontificia Comillas. Facultad de T...   \n",
       "1877  Universidad Pontificia de Comillas. Facultad d...   \n",
       "1878  Universidad Pontificia de Comillas. Facultad d...   \n",
       "1879  Universidad Pontificia de Salamanca. Campus de...   \n",
       "\n",
       "                        Place address  place_lat  place_long  \n",
       "0                   Calle Leizaran 27  40.447932   -3.681382  \n",
       "1                   Calle Gran Via 63  40.422491   -3.709818  \n",
       "2       Calle Marques De Villamejor 5  40.431247   -3.687559  \n",
       "3                   Calle Serrano 117  40.440884   -3.687026  \n",
       "4                 Calle Joaquin Bau 4  40.463788   -3.685848  \n",
       "...                               ...        ...         ...  \n",
       "1875        Calle Alberto Aguilera 23  40.429980   -3.711258  \n",
       "1876  Calle Universidad De Comillas 3  40.552126   -3.682802  \n",
       "1877        Calle Alberto Aguilera 23  40.429980   -3.711258  \n",
       "1878        Calle Alberto Aguilera 23  40.429980   -3.711258  \n",
       "1879              Calle Gaztambide 12  40.432068   -3.715598  \n",
       "\n",
       "[1880 rows x 4 columns]"
      ]
     },
     "execution_count": 178,
     "metadata": {},
     "output_type": "execute_result"
    }
   ],
   "source": [
    "#Elimino valores y restablezco el indice \n",
    "df_places = df_places.dropna().reset_index(drop=True)\n",
    "df_places"
   ]
  },
  {
   "cell_type": "code",
   "execution_count": null,
   "id": "21062433",
   "metadata": {},
   "outputs": [],
   "source": []
  },
  {
   "cell_type": "code",
   "execution_count": null,
   "id": "d18e8d5a",
   "metadata": {},
   "outputs": [],
   "source": []
  },
  {
   "cell_type": "code",
   "execution_count": null,
   "id": "5dead110",
   "metadata": {},
   "outputs": [],
   "source": []
  }
 ],
 "metadata": {
  "kernelspec": {
   "display_name": "Python [conda env:m1]",
   "language": "python",
   "name": "conda-env-m1-py"
  },
  "language_info": {
   "codemirror_mode": {
    "name": "ipython",
    "version": 3
   },
   "file_extension": ".py",
   "mimetype": "text/x-python",
   "name": "python",
   "nbconvert_exporter": "python",
   "pygments_lexer": "ipython3",
   "version": "3.10.14"
  }
 },
 "nbformat": 4,
 "nbformat_minor": 5
}
