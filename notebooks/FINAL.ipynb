{
 "cells": [
  {
   "cell_type": "code",
   "execution_count": 1,
   "id": "9644125e",
   "metadata": {},
   "outputs": [],
   "source": [
    "import pandas as pd\n",
    "import requests\n",
    "from shapely.geometry import Point\n",
    "import geopandas as gpd"
   ]
  },
  {
   "cell_type": "code",
   "execution_count": 2,
   "id": "55bcb8ff",
   "metadata": {},
   "outputs": [],
   "source": [
    "# Leer el archivo y procesar las coordenadas\n",
    "df = pd.read_csv('../data/bicimad_stations.csv', sep=\"\\t\")\n",
    "df[['longitud', 'latitud']] = df['geometry.coordinates'].str.strip('[]').str.split(', ', expand=True).astype(float)\n",
    "\n",
    "# Extraer el nombre de la estación y renombrar columnas\n",
    "df['name'] = df['name'].str.extract(r'\\s-\\s(.*)')\n",
    "df_bicimad_stations = df[['name', 'address', 'latitud', 'longitud', 'dock_bikes']].rename(columns={\n",
    "    'name': 'BiciMAD station', \n",
    "    'address': 'Station location', \n",
    "    'latitud': 'station_lat',\n",
    "    'longitud': 'station_long',\n",
    "    'dock_bikes': 'Bikes_available' \n",
    "})\n",
    "\n",
    "#df_bicimad_stations"
   ]
  },
  {
   "cell_type": "code",
   "execution_count": 3,
   "id": "53cc4f7d",
   "metadata": {},
   "outputs": [],
   "source": [
    "def acquisition_method_csv(file_path):\n",
    "    df_acquisition_csv = pd.read_csv(file_path, sep=\"\\t\")\n",
    "    return df_acquisition_csv"
   ]
  },
  {
   "cell_type": "code",
   "execution_count": 4,
   "id": "0a81bcd8",
   "metadata": {},
   "outputs": [],
   "source": [
    "file_path = '../data/bicimad_stations.csv'"
   ]
  },
  {
   "cell_type": "code",
   "execution_count": 5,
   "id": "5fcba85c",
   "metadata": {},
   "outputs": [],
   "source": [
    "df_acquisition_csv = acquisition_method_csv(file_path)"
   ]
  },
  {
   "cell_type": "code",
   "execution_count": 6,
   "id": "c4db12c1",
   "metadata": {},
   "outputs": [],
   "source": [
    "def clean_df_stations(df_acquisition_csv):\n",
    "    df_acquisition_csv[['longitud', 'latitud']] = df_acquisition_csv['geometry.coordinates']\\\n",
    "    .str.strip('[]').str.split(', ', expand=True).astype(float)\n",
    "    df_acquisition_csv['name'] = df_acquisition_csv['name'].str.extract(r'\\s-\\s(.*)')\n",
    "    df_bicimad_stations = df_acquisition_csv[['name', 'address', 'latitud', 'longitud', 'dock_bikes']].rename(columns={\n",
    "        'name': 'BiciMAD station', \n",
    "        'address': 'Station location', \n",
    "        'latitud': 'station_lat',\n",
    "        'longitud': 'station_long',\n",
    "        'dock_bikes': 'Bikes_available' \n",
    "    })\n",
    "    return df_bicimad_stations"
   ]
  },
  {
   "cell_type": "code",
   "execution_count": 7,
   "id": "bba8373f",
   "metadata": {},
   "outputs": [],
   "source": [
    "df_bicimad_stations = clean_df_stations(df_acquisition_csv)"
   ]
  },
  {
   "cell_type": "code",
   "execution_count": 8,
   "id": "7a084b4d",
   "metadata": {},
   "outputs": [],
   "source": [
    "# Acceder a la API\n",
    "url = 'https://datos.madrid.es/egob/catalogo/300614-0-centros-educativos.json'\n",
    "response = requests.get(url)\n",
    "\n",
    "# Convertir la respuesta a JSON\n",
    "json_data = response.json()\n",
    "\n",
    "# Crear DataFrame con la información de interés\n",
    "df = pd.DataFrame(json_data['@graph'])\n",
    "\n",
    "# Extraer la dirección, latitud y longitud\n",
    "df['street_address'] = df['address'].apply(lambda x: x.get('street-address') if pd.notnull(x) else None).str.title()\n",
    "df['latitude'] = df['location'].apply(lambda x: x['latitude'] if isinstance(x, dict) else None)\n",
    "df['longitude'] = df['location'].apply(lambda x: x['longitude'] if isinstance(x, dict) else None)\n",
    "\n",
    "# Crear el DataFrame final con las columnas relevantes\n",
    "df_places = df[['title', 'street_address', 'latitude', 'longitude']].rename(columns={\n",
    "    'title': 'Place of interest', 'street_address': 'Place address', 'latitude': 'place_lat', 'longitude': 'place_long'})\n",
    "\n",
    "# Eliminar filas con valores nulos y restablecer el índice\n",
    "df_places = df_places.dropna().reset_index(drop=True)\n",
    "\n",
    "\n",
    "#df_places"
   ]
  },
  {
   "cell_type": "code",
   "execution_count": 9,
   "id": "838ba5f5",
   "metadata": {},
   "outputs": [],
   "source": [
    "def acquisition_method_api(url):\n",
    "    response = requests.get(url)\n",
    "    json_data = response.json()\n",
    "    df_acquisition_api = pd.DataFrame(json_data['@graph'])\n",
    "    return df_acquisition_api"
   ]
  },
  {
   "cell_type": "code",
   "execution_count": 10,
   "id": "0d02eb1b",
   "metadata": {},
   "outputs": [],
   "source": [
    "url = 'https://datos.madrid.es/egob/catalogo/300614-0-centros-educativos.json'"
   ]
  },
  {
   "cell_type": "code",
   "execution_count": 11,
   "id": "02d550ed",
   "metadata": {},
   "outputs": [],
   "source": [
    "df_acquisition_api = acquisition_method_api(url)"
   ]
  },
  {
   "cell_type": "code",
   "execution_count": 12,
   "id": "020df0ef",
   "metadata": {},
   "outputs": [],
   "source": [
    "def clean_df_places(df_acquisition_api):\n",
    "    df_acquisition_api['street_address'] =  df_acquisition_api['address']\\\n",
    "    .apply(lambda x: x.get('street-address') if pd.notnull(x) else None).str.title()\n",
    "    \n",
    "    df_acquisition_api['latitude'] =  df_acquisition_api['location']\\\n",
    "    .apply(lambda x: x['latitude'] if isinstance(x, dict) else None)\n",
    "    df_acquisition_api['longitude'] =  df_acquisition_api['location']\\\n",
    "    .apply(lambda x: x['longitude'] if isinstance(x, dict) else None)\n",
    "    \n",
    "    df_places =  df_acquisition_api[['title', 'street_address', 'latitude', 'longitude']].rename(columns={\n",
    "        'title': 'Place of interest', \n",
    "        'street_address': 'Place address', \n",
    "        'latitude': 'place_lat', \n",
    "        'longitude': 'place_long'\n",
    "    })\n",
    "    df_places = df_places.dropna().reset_index(drop=True)\n",
    "    return df_places"
   ]
  },
  {
   "cell_type": "code",
   "execution_count": 25,
   "id": "5a7cbd3b",
   "metadata": {},
   "outputs": [],
   "source": [
    "df_places = clean_df_places(df_acquisition_api)"
   ]
  },
  {
   "cell_type": "code",
   "execution_count": 26,
   "id": "72ea60b3",
   "metadata": {},
   "outputs": [],
   "source": [
    "def to_mercator(lat, long):\n",
    "    # transform latitude/longitude data in degrees to pseudo-mercator coordinates in metres\n",
    "    c = gpd.GeoSeries([Point(lat, long)], crs=4326)\n",
    "    c = c.to_crs(3857)\n",
    "    return c\n",
    "\n",
    "def distance_meters(lat_start, long_start, lat_finish, long_finish):\n",
    "    # return the distance in metres between to latitude/longitude pair points in degrees \n",
    "    # (e.g.: Start Point -> 40.4400607 / -3.6425358 End Point -> 40.4234825 / -3.6292625)\n",
    "    start = to_mercator(lat_start, long_start)\n",
    "    finish = to_mercator(lat_finish, long_finish)\n",
    "    return start.distance(finish)"
   ]
  },
  {
   "cell_type": "code",
   "execution_count": 27,
   "id": "329ef8e9",
   "metadata": {},
   "outputs": [],
   "source": [
    "# Utilizamos los DataFrames de prueba: places_prueba y stations_prueba\n",
    "places_prueba = df_bicimad_stations.head(50)  \n",
    "stations_prueba = df_places.head(50)      "
   ]
  },
  {
   "cell_type": "code",
   "execution_count": 28,
   "id": "0cc9a6c9",
   "metadata": {},
   "outputs": [],
   "source": [
    "#DF final con valores de prueba\n",
    "df_combined = pd.merge(stations_prueba, places_prueba, how='cross') \n",
    "\n",
    "df_combined['distance'] = df_combined.apply(lambda row: distance_meters(\n",
    "    row['station_lat'], row['station_long'], row['place_lat'], row['place_long']).item(), axis=1)\n",
    "\n",
    "nearest_stations = df_combined.loc[df_combined.groupby('Place of interest')['distance'].idxmin()]\n",
    "\n",
    "final_result = nearest_stations[['Place of interest', 'Place address', 'BiciMAD station', 'Station location', 'Bikes_available']]\n",
    "#final_result"
   ]
  },
  {
   "cell_type": "code",
   "execution_count": 17,
   "id": "aed4e17f",
   "metadata": {},
   "outputs": [],
   "source": [
    "def combine_dataframes_cross (df1, df2):\n",
    "    df_combined = pd.merge(df1, df2, how = 'cross')\n",
    "    return df_combined"
   ]
  },
  {
   "cell_type": "code",
   "execution_count": 18,
   "id": "5a0bd06b",
   "metadata": {},
   "outputs": [],
   "source": [
    "df_combined = combine_dataframes_cross(stations_prueba, places_prueba)\n"
   ]
  },
  {
   "cell_type": "code",
   "execution_count": 23,
   "id": "fa6d2682",
   "metadata": {},
   "outputs": [],
   "source": [
    "def find_nearest_stations (df_combined):\n",
    "    df_combined['distance'] = df_combined.apply(lambda row: distance_meters(\n",
    "    row['station_lat'], row['station_long'], row['place_lat'], row['place_long']).item(), axis=1)\n",
    "    nearest_stations = df_combined.loc[df_combined.groupby('Place of interest')['distance'].idxmin()]\n",
    "    final_result = nearest_stations[['Place of interest', 'Place address', 'BiciMAD station', 'Station location', 'Bikes_available']]\n",
    "    return final_result"
   ]
  },
  {
   "cell_type": "code",
   "execution_count": 30,
   "id": "56b541d9",
   "metadata": {},
   "outputs": [],
   "source": [
    "df_final_result = find_nearest_stations(df_combined)"
   ]
  },
  {
   "cell_type": "code",
   "execution_count": 29,
   "id": "24f1381a",
   "metadata": {},
   "outputs": [],
   "source": [
    "#Guardar CSV\n",
    "final_result.to_csv(\"nearest_bicimad_stations.csv\", index=False)"
   ]
  },
  {
   "cell_type": "code",
   "execution_count": 37,
   "id": "25a171fc",
   "metadata": {},
   "outputs": [],
   "source": [
    "def save_csv (dataframe, file_name):\n",
    "    dataframe.to_csv(file_name, index=False)\n",
    "    return f\"File successfully saved as {file_name}\""
   ]
  },
  {
   "cell_type": "code",
   "execution_count": 38,
   "id": "7d8090d3",
   "metadata": {},
   "outputs": [
    {
     "data": {
      "text/plain": [
       "'File successfully saved as nearest_bicimad_stations.csv'"
      ]
     },
     "execution_count": 38,
     "metadata": {},
     "output_type": "execute_result"
    }
   ],
   "source": [
    "save_csv(final_result, 'nearest_bicimad_stations.csv')"
   ]
  },
  {
   "cell_type": "code",
   "execution_count": 32,
   "id": "8b40eff9",
   "metadata": {},
   "outputs": [],
   "source": []
  }
 ],
 "metadata": {
  "kernelspec": {
   "display_name": "Python [conda env:m1]",
   "language": "python",
   "name": "conda-env-m1-py"
  },
  "language_info": {
   "codemirror_mode": {
    "name": "ipython",
    "version": 3
   },
   "file_extension": ".py",
   "mimetype": "text/x-python",
   "name": "python",
   "nbconvert_exporter": "python",
   "pygments_lexer": "ipython3",
   "version": "3.10.14"
  }
 },
 "nbformat": 4,
 "nbformat_minor": 5
}
